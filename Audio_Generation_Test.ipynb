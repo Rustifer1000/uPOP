{
  "cells": [
    {
      "cell_type": "markdown",
      "metadata": {
        "id": "view-in-github",
        "colab_type": "text"
      },
      "source": [
        "<a href=\"https://colab.research.google.com/github/Rustifer1000/uPOP/blob/main/Audio_Generation_Test.ipynb\" target=\"_parent\"><img src=\"https://colab.research.google.com/assets/colab-badge.svg\" alt=\"Open In Colab\"/></a>"
      ]
    },
    {
      "cell_type": "code",
      "source": [
        "import streamlit as st\n",
        "from elevenlabs.client import ElevenLabs\n",
        "\n",
        "# --- Configuration ---\n",
        "# Set page title and icon\n",
        "st.set_page_config(page_title=\"Audio Sketchpad\", page_icon=\"🎵\")\n",
        "\n",
        "# --- Helper Function ---\n",
        "@st.cache_data\n",
        "def generate_audio_sample(prompt_text, api_key):\n",
        "    \"\"\"\n",
        "    Generates audio from a text prompt using the ElevenLabs API.\n",
        "    Uses st.cache_data to avoid re-generating the same audio.\n",
        "    \"\"\"\n",
        "    if not prompt_text or not api_key:\n",
        "        return None, \"Error: Prompt or API key is missing.\"\n",
        "\n",
        "    try:\n",
        "        # Initialize the ElevenLabs client\n",
        "        client = ElevenLabs(api_key=api_key)\n",
        "\n",
        "        # Generate the audio using the text_to_sound_effects model\n",
        "        # This returns raw audio bytes\n",
        "        audio_bytes = client.text_to_sound_effects.convert(\n",
        "            text=prompt_text,\n",
        "            duration_seconds=7,  # Keep it short for testing\n",
        "            prompt_influence=0.7, # Controls how closely it follows the prompt\n",
        "        )\n",
        "        return audio_bytes, None\n",
        "    except Exception as e:\n",
        "        st.error(f\"An error occurred with the ElevenLabs API: {e}\")\n",
        "        return None, str(e)\n",
        "\n",
        "# --- Streamlit UI ---\n",
        "\n",
        "st.title(\"🎵 Audio Generation Sketchpad\")\n",
        "st.markdown(\"This is a simple app to test the core functionality of generating instrumental audio from a text prompt using the ElevenLabs API.\")\n",
        "\n",
        "# --- API Key Input ---\n",
        "# Use secrets if available, otherwise allow manual input\n",
        "try:\n",
        "    elevenlabs_api_key = st.secrets[\"ELEVENLABS_API_KEY\"]\n",
        "    st.success(\"ElevenLabs API Key found in secrets!\")\n",
        "except (KeyError, FileNotFoundError):\n",
        "    st.warning(\"ElevenLabs API Key not found in secrets. Please enter it below.\")\n",
        "    elevenlabs_api_key = st.text_input(\"Enter your ElevenLabs API Key:\", type=\"password\")\n",
        "\n",
        "st.markdown(\"---\")\n",
        "\n",
        "# --- Main Interaction ---\n",
        "if elevenlabs_api_key:\n",
        "    st.header(\"Create a Sound\")\n",
        "\n",
        "    # Text input for the audio prompt\n",
        "    prompt = st.text_input(\n",
        "        \"Enter a descriptive prompt for the audio:\",\n",
        "        \"A simple, melancholic piano melody, lo-fi, 85 BPM, dreamy and nostalgic.\"\n",
        "    )\n",
        "\n",
        "    # Button to trigger audio generation\n",
        "    if st.button(\"Generate Audio Sketch\", type=\"primary\"):\n",
        "        if prompt:\n",
        "            with st.spinner(\"uPOP is dialing in a sound...\"):\n",
        "                # Call the function to get the audio bytes\n",
        "                audio_data, error = generate_audio_sample(prompt, elevenlabs_api_key)\n",
        "\n",
        "                if error:\n",
        "                    st.error(f\"Failed to generate audio: {error}\")\n",
        "                elif audio_data:\n",
        "                    st.success(\"Audio generated successfully!\")\n",
        "                    # Display the audio player\n",
        "                    st.audio(audio_data, format='audio/mpeg')\n",
        "        else:\n",
        "            st.warning(\"Please enter a prompt to generate audio.\")\n",
        "else:\n",
        "    st.info(\"Please provide an ElevenLabs API key to begin.\")"
      ],
      "outputs": [],
      "execution_count": null,
      "metadata": {
        "id": "WMk8NpFcBprH"
      }
    }
  ],
  "metadata": {
    "colab": {
      "provenance": [],
      "include_colab_link": true
    },
    "kernelspec": {
      "display_name": "Python 3",
      "name": "python3"
    }
  },
  "nbformat": 4,
  "nbformat_minor": 0
}